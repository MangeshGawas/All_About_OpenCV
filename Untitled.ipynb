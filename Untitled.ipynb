{
 "cells": [
  {
   "cell_type": "code",
   "execution_count": null,
   "id": "ec76aee3-b695-4325-8629-957e6cdb5be5",
   "metadata": {},
   "outputs": [],
   "source": [
    "'''\n",
    "object classification\n",
    "object detection\n",
    "object Tracking\n",
    "image segmentation\n",
    "feature matching\n",
    "video motion analysis\n",
    "'''\n",
    "\n",
    "'''\n",
    "There are two common way to identify the images\n",
    "1)Gray scale\n",
    "2)RGB\n",
    "\n",
    "Image converted in array\n",
    "'''\n",
    "\n",
    "'''\n",
    "Skill Required\n",
    "1)core Python\n",
    "2)numpy\n",
    "3)matplotlib\n",
    "4)matrix\n",
    "5)vector\n",
    "'''\n",
    "\n",
    "'''\n",
    "opencv Modules\n",
    "1)core\n",
    "2)imgProc\n",
    "3)imgcodec\n",
    "4)highgui\n",
    "5)video\n",
    "6)calib3d\n",
    "7)features2D\n",
    "8)objdetect\n",
    "9)dnn\n",
    "10)ml\n",
    "11)flann\n",
    "12)photo\n",
    "13)stiching\n",
    "14)shape\n",
    "15)superes\n",
    "16)videostab\n",
    "17)viz\n",
    "'''\n"
   ]
  },
  {
   "cell_type": "markdown",
   "id": "1722f31e-9c2a-46ac-b5fb-36f49d5187ea",
   "metadata": {},
   "source": [
    "\n",
    "Read and show Image\n"
   ]
  },
  {
   "cell_type": "code",
   "execution_count": 5,
   "id": "97355178-d848-4daa-a50e-d0eabb2e68da",
   "metadata": {},
   "outputs": [],
   "source": [
    "import cv2 as cv\n",
    "img = cv.imread('01.jpg') \n",
    "cv.imshow(\"01\",img)       \n",
    "cv.waitKey(0)          \n",
    "cv.destroyAllWindows()\n",
    "# cv.destroyWindow()"
   ]
  },
  {
   "cell_type": "code",
   "execution_count": 2,
   "id": "475f8b51-d286-45c9-963e-92130547c629",
   "metadata": {},
   "outputs": [],
   "source": [
    "import cv2 as cv\n",
    "img = cv.imread('01.jpg') \n",
    "cv.imshow(\"01\",img)       \n",
    "cv.imshow(\"02\",img)       \n",
    "cv.waitKey(0)          \n",
    "# cv.destroyAllWindows()\n",
    "cv.destroyWindow(\"01\")\n",
    "cv.destroyWindow(\"02\")"
   ]
  },
  {
   "cell_type": "markdown",
   "id": "6de11edd-bbdd-48c4-9616-7a2303e90c78",
   "metadata": {},
   "source": [
    "Slide Show / carousel slider / resize"
   ]
  },
  {
   "cell_type": "code",
   "execution_count": 6,
   "id": "0c4099fd-1e19-4d8d-b435-7b602ffba27a",
   "metadata": {},
   "outputs": [],
   "source": [
    "import cv2\n",
    "import numpy as np\n",
    "img1 = cv2.imread('01.jpg')\n",
    "img2 = cv2.imread('01.jpg')\n",
    "# img1 = cv2.resize(img1, (310,410))\n",
    "h = np.hstack((img1,img2))\n",
    "v = np.vstack((img1,img2))\n",
    "vFour = np.vstack((h,h))\n",
    "# print(img1)\n",
    "cv2.imshow('carousel slider', vFour)\n",
    "cv2.waitKey(0)\n",
    "cv2.destroyAllWindows()"
   ]
  },
  {
   "cell_type": "code",
   "execution_count": 1,
   "id": "d45ebd91-6878-4e25-b2cb-6cc8c0a6ec3f",
   "metadata": {},
   "outputs": [
    {
     "name": "stdout",
     "output_type": "stream",
     "text": [
      "hello\n"
     ]
    }
   ],
   "source": []
  }
 ],
 "metadata": {
  "kernelspec": {
   "display_name": "Python 3 (ipykernel)",
   "language": "python",
   "name": "python3"
  },
  "language_info": {
   "codemirror_mode": {
    "name": "ipython",
    "version": 3
   },
   "file_extension": ".py",
   "mimetype": "text/x-python",
   "name": "python",
   "nbconvert_exporter": "python",
   "pygments_lexer": "ipython3",
   "version": "3.11.7"
  }
 },
 "nbformat": 4,
 "nbformat_minor": 5
}
