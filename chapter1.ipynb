{
 "cells": [
  {
   "cell_type": "code",
   "execution_count": 1,
   "id": "af20c50e-cd27-44f2-81ca-95d47d5d60ea",
   "metadata": {},
   "outputs": [],
   "source": [
    "import cv2"
   ]
  },
  {
   "cell_type": "code",
   "execution_count": 3,
   "id": "515f7249-f293-4b4e-bb41-ef0c00b2c89f",
   "metadata": {},
   "outputs": [],
   "source": [
    "img = cv2.imread('01.jpg')"
   ]
  },
  {
   "cell_type": "code",
   "execution_count": 4,
   "id": "e6bbd72b-755b-4dfa-89c1-327b234669cf",
   "metadata": {},
   "outputs": [
    {
     "data": {
      "text/plain": [
       "-1"
      ]
     },
     "execution_count": 4,
     "metadata": {},
     "output_type": "execute_result"
    }
   ],
   "source": [
    "cv2.imshow('output',img)\n",
    "cv2.waitKey(0)"
   ]
  },
  {
   "cell_type": "code",
   "execution_count": null,
   "id": "c6f12f37-a757-4d65-9359-a32751d07782",
   "metadata": {},
   "outputs": [],
   "source": [
    "# cap = cv2.VideoCapture('path')\n",
    "# while True:\n",
    "#     success, img = cap.read()\n",
    "#     cv2.imshow(\"video\",img)\n",
    "#     if cv2.waitKey(1) & 0xFF == ord('q'):\n",
    "#         break"
   ]
  },
  {
   "cell_type": "code",
   "execution_count": 2,
   "id": "eac593e9-4534-4121-94b7-d103102f18fa",
   "metadata": {},
   "outputs": [],
   "source": [
    "cap = cv2.VideoCapture(0)\n",
    "cap.set(3,640)\n",
    "cap.set(4,480)\n",
    "cap.set(10,100)\n",
    "while True:\n",
    "    success, img = cap.read()\n",
    "    cv2.imshow(\"video\",img)\n",
    "    if cv2.waitKey(1) & 0xFF == ord('q'):\n",
    "        break"
   ]
  }
 ],
 "metadata": {
  "kernelspec": {
   "display_name": "Python 3 (ipykernel)",
   "language": "python",
   "name": "python3"
  },
  "language_info": {
   "codemirror_mode": {
    "name": "ipython",
    "version": 3
   },
   "file_extension": ".py",
   "mimetype": "text/x-python",
   "name": "python",
   "nbconvert_exporter": "python",
   "pygments_lexer": "ipython3",
   "version": "3.11.7"
  }
 },
 "nbformat": 4,
 "nbformat_minor": 5
}
