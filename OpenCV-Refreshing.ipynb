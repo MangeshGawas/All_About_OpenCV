{
 "cells": [
  {
   "cell_type": "code",
   "execution_count": 1,
   "id": "ec76aee3-b695-4325-8629-957e6cdb5be5",
   "metadata": {},
   "outputs": [
    {
     "data": {
      "text/plain": [
       "'\\nopencv Modules\\n1)core\\n2)imgProc\\n3)imgcodec\\n4)highgui\\n5)video\\n6)calib3d\\n7)features2D\\n8)objdetect\\n9)dnn\\n10)ml\\n11)flann\\n12)photo\\n13)stiching\\n14)shape\\n15)superes\\n16)videostab\\n17)viz\\n'"
      ]
     },
     "execution_count": 1,
     "metadata": {},
     "output_type": "execute_result"
    }
   ],
   "source": [
    "'''\n",
    "object classification\n",
    "object detection\n",
    "object Tracking\n",
    "image segmentation\n",
    "feature matching\n",
    "video motion analysis\n",
    "'''\n",
    "\n",
    "'''\n",
    "There are two common way to identify the images\n",
    "1)Gray scale\n",
    "2)RGB\n",
    "\n",
    "Image converted in array\n",
    "'''\n",
    "\n",
    "'''\n",
    "Skill Required\n",
    "1)core Python\n",
    "2)numpy\n",
    "3)matplotlib\n",
    "4)matrix\n",
    "5)vector\n",
    "'''\n",
    "\n",
    "'''\n",
    "opencv Modules\n",
    "1)core\n",
    "2)imgProc\n",
    "3)imgcodec\n",
    "4)highgui\n",
    "5)video\n",
    "6)calib3d\n",
    "7)features2D\n",
    "8)objdetect\n",
    "9)dnn\n",
    "10)ml\n",
    "11)flann\n",
    "12)photo\n",
    "13)stiching\n",
    "14)shape\n",
    "15)superes\n",
    "16)videostab\n",
    "17)viz\n",
    "'''\n"
   ]
  },
  {
   "cell_type": "markdown",
   "id": "1722f31e-9c2a-46ac-b5fb-36f49d5187ea",
   "metadata": {},
   "source": [
    "\n",
    "Read and show Image\n"
   ]
  },
  {
   "cell_type": "code",
   "execution_count": 2,
   "id": "97355178-d848-4daa-a50e-d0eabb2e68da",
   "metadata": {},
   "outputs": [],
   "source": [
    "import cv2 as cv\n",
    "img = cv.imread('01.jpg') \n",
    "cv.imshow(\"01\",img)       \n",
    "cv.waitKey(0)          \n",
    "cv.destroyAllWindows()\n",
    "# cv.destroyWindow()"
   ]
  },
  {
   "cell_type": "code",
   "execution_count": 3,
   "id": "475f8b51-d286-45c9-963e-92130547c629",
   "metadata": {},
   "outputs": [],
   "source": [
    "import cv2 as cv\n",
    "img = cv.imread('01.jpg') \n",
    "cv.imshow(\"01\",img)       \n",
    "cv.imshow(\"02\",img)       \n",
    "cv.waitKey(0)          \n",
    "# cv.destroyAllWindows()\n",
    "cv.destroyWindow(\"01\")\n",
    "cv.destroyWindow(\"02\")"
   ]
  },
  {
   "cell_type": "markdown",
   "id": "6de11edd-bbdd-48c4-9616-7a2303e90c78",
   "metadata": {},
   "source": [
    "Slide Show / carousel slider / resize"
   ]
  },
  {
   "cell_type": "code",
   "execution_count": 4,
   "id": "0c4099fd-1e19-4d8d-b435-7b602ffba27a",
   "metadata": {},
   "outputs": [
    {
     "name": "stdout",
     "output_type": "stream",
     "text": [
      "['01 - Copy (2).jpg', '01 - Copy (3).jpg', '01 - Copy (4).jpg', '01 - Copy.jpg', '01.jpg', '11.jpg']\n"
     ]
    }
   ],
   "source": [
    "import cv2\n",
    "import numpy as np\n",
    "import os\n",
    "img1 = cv2.imread('01.jpg')\n",
    "img2 = cv2.imread('01.jpg')\n",
    "# img1 = cv2.resize(img1, (310,410))\n",
    "h = np.hstack((img1,img2))\n",
    "v = np.vstack((img1,img2))\n",
    "vFour = np.vstack((h,h))\n",
    "# print(img1)\n",
    "# cv2.imshow('carousel slider', vFour)\n",
    "list_name = os.listdir(r'C:\\Users\\USER\\code\\potato_leaf_disease_detection_project_\\OpenCV_Learning\\All_About_OpenCV\\images')\n",
    "for name in list_name:\n",
    "    path = \"C:\\\\Users\\\\USER\\\\code\\\\potato_leaf_disease_detection_project_\\\\OpenCV_Learning\\\\All_About_OpenCV\\\\images\"\n",
    "    img_name = path+\"\\\\\"+name\n",
    "    imgArray = cv2.imread(img_name)\n",
    "    imgResized = cv2.resize(imgArray,(300,200))\n",
    "    cv2.imshow(\"window\",imgResized)\n",
    "    cv2.waitKey(0)\n",
    "    \n",
    "print(list_name)\n",
    "cv2.waitKey(0)\n",
    "cv2.destroyAllWindows()"
   ]
  },
  {
   "cell_type": "code",
   "execution_count": 15,
   "id": "d45ebd91-6878-4e25-b2cb-6cc8c0a6ec3f",
   "metadata": {},
   "outputs": [
    {
     "name": "stdout",
     "output_type": "stream",
     "text": [
      "[[ 78  80  81 ... 137 132 130]\n",
      " [ 80  79  78 ... 138 133 131]\n",
      " [ 81  78  76 ... 137 134 132]\n",
      " ...\n",
      " [149 148 148 ... 203 206 207]\n",
      " [149 148 149 ... 202 203 205]\n",
      " [149 149 151 ... 200 201 204]]\n",
      "(300, 300)\n"
     ]
    }
   ],
   "source": [
    "import cv2\n",
    "img = cv2.imread('01.jpg',0)\n",
    "print(img)\n",
    "print(img.shape)\n",
    "cv2.imshow(\"image\",img)\n",
    "cv2.waitKey(0)\n",
    "cv2.destroyAllWindows()"
   ]
  },
  {
   "cell_type": "markdown",
   "id": "4dbbced8-9bfb-42e2-9712-958f8610f3d4",
   "metadata": {},
   "source": [
    "text over image\n"
   ]
  },
  {
   "cell_type": "code",
   "execution_count": 28,
   "id": "90f3f69c-9003-4d45-8236-91bb61479004",
   "metadata": {},
   "outputs": [],
   "source": [
    "import cv2\n",
    "\n",
    "# Read the image\n",
    "img_get = cv2.imread(\"01.jpg\")\n",
    "\n",
    "# Put text on the image\n",
    "img_with_text = cv2.putText(\n",
    "    img=img_get,\n",
    "    text=\"Hello World\",\n",
    "    org=(50, 50),\n",
    "    fontFace=cv2.FONT_HERSHEY_DUPLEX,\n",
    "    fontScale=3,\n",
    "    color=(255, 0, 0),\n",
    "    thickness=3,\n",
    "    lineType=cv2.LINE_8,\n",
    "    bottomLeftOrigin=True\n",
    ")\n",
    "img_with_text = cv2.putText(\n",
    "    img=img_get,\n",
    "    text=\"Hello World\",\n",
    "    org=(54, 54),\n",
    "    fontFace=cv2.FONT_HERSHEY_DUPLEX,\n",
    "    fontScale=3,\n",
    "    color=(255, 0, 0),\n",
    "    thickness=3,\n",
    "    lineType=cv2.LINE_8,\n",
    "    bottomLeftOrigin=False\n",
    ")\n",
    "\n",
    "# Display the image with text\n",
    "cv2.imshow(\"image\", img_with_text)\n",
    "cv2.waitKey(0)\n",
    "cv2.destroyAllWindows()\n"
   ]
  },
  {
   "cell_type": "markdown",
   "id": "2b2c7a68-e36f-4a19-9233-de11f4a77b1f",
   "metadata": {},
   "source": [
    "Draw Line and rectangle\n"
   ]
  },
  {
   "cell_type": "code",
   "execution_count": 36,
   "id": "fc5b892f-fb60-4b21-946f-3b66fb759911",
   "metadata": {},
   "outputs": [],
   "source": [
    "import cv2 \n",
    "img_1 = cv2.imread(\"01.jpg\")\n",
    "\n",
    "new_img = cv2.line(\n",
    "    img = img_1,\n",
    "    pt1 =(20,80),\n",
    "    pt2=(200,80),\n",
    "    color= (0,255,0),\n",
    "    thickness=3,\n",
    "    lineType=4\n",
    ")\n",
    "\n",
    "cv2.imshow(\"window\", new_img)\n",
    "\n",
    "cv2.waitKey(0)\n",
    "cv2.destroyAllWindows()"
   ]
  },
  {
   "cell_type": "code",
   "execution_count": 44,
   "id": "5588dfa3-aefb-424b-9bbc-23e7c6d59f51",
   "metadata": {},
   "outputs": [],
   "source": [
    "import cv2 \n",
    "img_1 = cv2.imread(\"01.jpg\")\n",
    "\n",
    "new_img = cv2.rectangle(\n",
    "    img = img_1,\n",
    "    pt1 =(20,50),\n",
    "    pt2=(200,100),\n",
    "    color= (0,255,0),\n",
    "    thickness=3,\n",
    "    lineType=4\n",
    ")\n",
    "\n",
    "cv2.imshow(\"window\", new_img)\n",
    "\n",
    "cv2.waitKey(0)\n",
    "cv2.destroyAllWindows()"
   ]
  }
 ],
 "metadata": {
  "kernelspec": {
   "display_name": "Python 3 (ipykernel)",
   "language": "python",
   "name": "python3"
  },
  "language_info": {
   "codemirror_mode": {
    "name": "ipython",
    "version": 3
   },
   "file_extension": ".py",
   "mimetype": "text/x-python",
   "name": "python",
   "nbconvert_exporter": "python",
   "pygments_lexer": "ipython3",
   "version": "3.11.7"
  }
 },
 "nbformat": 4,
 "nbformat_minor": 5
}
