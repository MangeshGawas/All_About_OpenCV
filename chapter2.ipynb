{
 "cells": [
  {
   "cell_type": "code",
   "execution_count": 4,
   "id": "0c7b2489-36e6-4f4d-9671-aa07f903beb1",
   "metadata": {},
   "outputs": [],
   "source": [
    "import cv2"
   ]
  },
  {
   "cell_type": "code",
   "execution_count": 11,
   "id": "fa85c3d0-c2a7-4974-8a7e-2a8a7b636b71",
   "metadata": {},
   "outputs": [],
   "source": [
    "img = cv2.imread('01.jpg')\n",
    "imgGray =  cv2.cvtColor(img,cv2.COLOR_BGR2GRAY)\n",
    "cv2.imshow(\"Gray Image\",imgGray)\n",
    "cv2.waitKey(0)\n",
    "cv2.destroyAllWindows()"
   ]
  },
  {
   "cell_type": "code",
   "execution_count": 13,
   "id": "11c7df24-b36d-4796-8e78-0121ee260858",
   "metadata": {},
   "outputs": [
    {
     "data": {
      "text/plain": [
       "-1"
      ]
     },
     "execution_count": 13,
     "metadata": {},
     "output_type": "execute_result"
    }
   ],
   "source": [
    "img = cv2.imread('01.jpg')\n",
    "imgGray =  cv2.cvtColor(img,cv2.COLOR_BGR2GRAY)\n",
    "imgBlur =  cv2.GaussianBlur(imgGray,(7,7),0)\n",
    "cv2.imshow(\"Blur Image\",imgBlur)\n",
    "cv2.waitKey(0)"
   ]
  },
  {
   "cell_type": "code",
   "execution_count": 17,
   "id": "5701ab5a-db33-4cef-adb6-373af4e8b60b",
   "metadata": {},
   "outputs": [
    {
     "data": {
      "text/plain": [
       "-1"
      ]
     },
     "execution_count": 17,
     "metadata": {},
     "output_type": "execute_result"
    }
   ],
   "source": [
    "img = cv2.imread('01.jpg')\n",
    "imgGray =  cv2.cvtColor(img,cv2.COLOR_BGR2GRAY)\n",
    "imgCanny =  cv2.Canny(imgGray,100,100)\n",
    "cv2.imshow(\"canny Image\",imgBlur)\n",
    "cv2.waitKey(0)"
   ]
  },
  {
   "cell_type": "code",
   "execution_count": 25,
   "id": "100549d8-1f73-405d-9c2d-c0938bfbb20a",
   "metadata": {},
   "outputs": [],
   "source": [
    "import cv2\n",
    "import numpy as np\n",
    "# Define the kernel for dilation\n",
    "kernel = np.ones((1,2),np.uint8)\n",
    "# Read the image\n",
    "img = cv2.imread('01.jpg')\n",
    "# Convert the image to grayscale\n",
    "imgGray = cv2.cvtColor(img, cv2.COLOR_BGR2GRAY)\n",
    "# Apply Canny edge detection\n",
    "imgCanny = cv2.Canny(imgGray, 100, 100)\n",
    "# Apply dilation to the edges\n",
    "imgDilation = cv2.dilate(imgCanny, kernel, iterations=1)\n",
    "# Display the dilated image\n",
    "cv2.imshow(\"Dilation Image\", imgDilation)\n",
    "# Wait for a key press indefinitely or for a specific amount of time in milliseconds\n",
    "cv2.waitKey(0)\n",
    "# Destroy all the window displays when the user presses a key\n",
    "cv2.destroyAllWindows()\n"
   ]
  },
  {
   "cell_type": "code",
   "execution_count": 29,
   "id": "d1477845-2995-46f6-968e-be74d1d6b27e",
   "metadata": {},
   "outputs": [],
   "source": [
    "import cv2\n",
    "import numpy as np\n",
    "kernel = np.ones((1,2),np.uint8)\n",
    "img = cv2.imread('01.jpg')\n",
    "imgGray = cv2.cvtColor(img, cv2.COLOR_BGR2GRAY)\n",
    "imgCanny = cv2.Canny(imgGray, 100, 100)\n",
    "imgDilation = cv2.dilate(imgCanny, kernel, iterations=1)\n",
    "imgEroded = cv2.erode(imgCanny, kernel, iterations=1)\n",
    "cv2.imshow(\"eroded Image\", imgEroded)\n",
    "cv2.waitKey(0)\n",
    "cv2.destroyAllWindows()\n"
   ]
  }
 ],
 "metadata": {
  "kernelspec": {
   "display_name": "Python 3 (ipykernel)",
   "language": "python",
   "name": "python3"
  },
  "language_info": {
   "codemirror_mode": {
    "name": "ipython",
    "version": 3
   },
   "file_extension": ".py",
   "mimetype": "text/x-python",
   "name": "python",
   "nbconvert_exporter": "python",
   "pygments_lexer": "ipython3",
   "version": "3.11.7"
  }
 },
 "nbformat": 4,
 "nbformat_minor": 5
}
